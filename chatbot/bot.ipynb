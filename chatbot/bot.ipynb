{
 "cells": [
  {
   "cell_type": "code",
   "execution_count": 2,
   "id": "c0712664",
   "metadata": {},
   "outputs": [
    {
     "data": {
      "text/plain": [
       "True"
      ]
     },
     "execution_count": 2,
     "metadata": {},
     "output_type": "execute_result"
    }
   ],
   "source": [
    "import os\n",
    "from dotenv import load_dotenv\n",
    "load_dotenv()\n",
    "\n"
   ]
  },
  {
   "cell_type": "code",
   "execution_count": 4,
   "id": "870e29de",
   "metadata": {},
   "outputs": [
    {
     "data": {
      "text/plain": [
       "'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'"
      ]
     },
     "execution_count": 4,
     "metadata": {},
     "output_type": "execute_result"
    }
   ],
   "source": [
    "groq_api_key= os.getenv(\"GROQ_API_KEY\")\n",
    "groq_api_key"
   ]
  },
  {
   "cell_type": "code",
   "execution_count": 5,
   "id": "2a5adb1f",
   "metadata": {},
   "outputs": [
    {
     "data": {
      "text/plain": [
       "ChatGroq(client=<groq.resources.chat.completions.Completions object at 0x00000245A1218350>, async_client=<groq.resources.chat.completions.AsyncCompletions object at 0x00000245A1374550>, model_name='Gemma2-9b-It', model_kwargs={}, groq_api_key=SecretStr('**********'))"
      ]
     },
     "execution_count": 5,
     "metadata": {},
     "output_type": "execute_result"
    }
   ],
   "source": [
    "from langchain_groq import ChatGroq\n",
    "model= ChatGroq(\n",
    "    model=\"Gemma2-9b-It\",\n",
    "    groq_api_key=groq_api_key,\n",
    ")\n",
    "model"
   ]
  },
  {
   "cell_type": "code",
   "execution_count": 7,
   "id": "a960c5ff",
   "metadata": {},
   "outputs": [
    {
     "data": {
      "text/plain": [
       "AIMessage(content=\"Hi Shreyas!\\n\\nIt's great to meet you. That's awesome that you're studying AI Engineering! \\n\\nWhat are you most interested in learning about within AI?  \\n\\nAre you working on any cool projects right now?\\n\", additional_kwargs={}, response_metadata={'token_usage': {'completion_tokens': 54, 'prompt_tokens': 25, 'total_tokens': 79, 'completion_time': 0.098181818, 'prompt_time': 0.002103037, 'queue_time': 0.244345073, 'total_time': 0.100284855}, 'model_name': 'Gemma2-9b-It', 'system_fingerprint': 'fp_10c08bf97d', 'finish_reason': 'stop', 'logprobs': None}, id='run--cb5b595b-56aa-4608-8bac-ec55c9ae0c12-0', usage_metadata={'input_tokens': 25, 'output_tokens': 54, 'total_tokens': 79})"
      ]
     },
     "execution_count": 7,
     "metadata": {},
     "output_type": "execute_result"
    }
   ],
   "source": [
    "from langchain_core.messages import HumanMessage\n",
    "model.invoke([\n",
    "    HumanMessage(\n",
    "        content=\"Hi my name is Shreyas and I am Student UG in Ai Engineering.\"\n",
    "    )]\n",
    ")"
   ]
  },
  {
   "cell_type": "code",
   "execution_count": 8,
   "id": "f75b17ec",
   "metadata": {},
   "outputs": [
    {
     "data": {
      "text/plain": [
       "AIMessage(content=\"You are Shreyas, a student pursuing a UG (Undergraduate) degree in AI Engineering. \\n\\nIs there anything else you'd like to know about yourself or discuss? 😊  I'm here to help!\\n\", additional_kwargs={}, response_metadata={'token_usage': {'completion_tokens': 48, 'prompt_tokens': 95, 'total_tokens': 143, 'completion_time': 0.087272727, 'prompt_time': 0.005210484, 'queue_time': 0.24466827500000002, 'total_time': 0.092483211}, 'model_name': 'Gemma2-9b-It', 'system_fingerprint': 'fp_10c08bf97d', 'finish_reason': 'stop', 'logprobs': None}, id='run--2a8b7e32-7da0-4483-abfb-a52d7a3df3d8-0', usage_metadata={'input_tokens': 95, 'output_tokens': 48, 'total_tokens': 143})"
      ]
     },
     "execution_count": 8,
     "metadata": {},
     "output_type": "execute_result"
    }
   ],
   "source": [
    "from langchain_core.messages import AIMessage\n",
    "\n",
    "model.invoke([\n",
    "    HumanMessage(\n",
    "        content=\"Hi my name is Shreyas and I am Student UG in Ai Engineering.\"\n",
    "    ),\n",
    "    AIMessage(\n",
    "        content=\"Hi Shreyas!\\n\\nIt's great to meet you. That's awesome that you're studying AI Engineering! \\n\\nWhat are you most interested in learning about within AI?  \\n\\nAre you working on any cool projects right now?\"\n",
    "    ),\n",
    "    HumanMessage(        content=\"Hey Whats my name and who am I?\"\n",
    "    )\n",
    "]\n",
    ")"
   ]
  },
  {
   "cell_type": "markdown",
   "id": "2425692f",
   "metadata": {},
   "source": [
    "### Message History"
   ]
  },
  {
   "cell_type": "code",
   "execution_count": 16,
   "id": "6229bf2c",
   "metadata": {},
   "outputs": [],
   "source": [
    "from langchain_community.chat_message_histories import ChatMessageHistory\n",
    "from langchain_core.chat_history import BaseChatMessageHistory\n",
    "from langchain_core.runnables import RunnableWithMessageHistory\n",
    "\n",
    "store={}\n",
    "\n",
    "def get_session_history(session_id: str) -> BaseChatMessageHistory:\n",
    "    if session_id not in store:\n",
    "        store[session_id]=ChatMessageHistory()\n",
    "    return store[session_id]\n",
    "\n",
    "with_message_history= RunnableWithMessageHistory(model, get_session_history)"
   ]
  },
  {
   "cell_type": "code",
   "execution_count": 17,
   "id": "12908fd0",
   "metadata": {},
   "outputs": [],
   "source": [
    "config= {\"configurable\":{\"session_id\":\"chat1\"}}"
   ]
  },
  {
   "cell_type": "code",
   "execution_count": 19,
   "id": "a3109cdd",
   "metadata": {},
   "outputs": [],
   "source": [
    "response=with_message_history.invoke(\n",
    "    [\n",
    "        HumanMessage(\n",
    "            content=\"Hi my name is Shreyas and I am Student UG in Ai Engineering.\")\n",
    "            ],\n",
    "            config=config\n",
    ")"
   ]
  },
  {
   "cell_type": "code",
   "execution_count": 25,
   "id": "5b6d1f0a",
   "metadata": {},
   "outputs": [
    {
     "data": {
      "text/plain": [
       "AIMessage(content=\"I'm still in the dark!  \\n\\nAs an AI, I don't have memory of past interactions or any information about you unless you choose to share it with me. \\n\\nWhy don't you tell me your name and a little bit about yourself? I'm always eager to meet new people (or, well, learn about them!). 😊  \\n\\n\", additional_kwargs={}, response_metadata={'token_usage': {'completion_tokens': 79, 'prompt_tokens': 164, 'total_tokens': 243, 'completion_time': 0.143636364, 'prompt_time': 0.007036785, 'queue_time': 0.245690144, 'total_time': 0.150673149}, 'model_name': 'Gemma2-9b-It', 'system_fingerprint': 'fp_10c08bf97d', 'finish_reason': 'stop', 'logprobs': None}, id='run--b0bc87ec-1922-4456-8407-28693de39ce0-0', usage_metadata={'input_tokens': 164, 'output_tokens': 79, 'total_tokens': 243})"
      ]
     },
     "execution_count": 25,
     "metadata": {},
     "output_type": "execute_result"
    }
   ],
   "source": [
    "## change the config===change the session_id\n",
    "config1= {\"configurable\":{\"session_id\":\"chat2\"}}\n",
    "response=with_message_history.invoke(\n",
    "    [\n",
    "        HumanMessage(content=\"Hey Whats my name and who am I?\")\n",
    "    ],\n",
    "    config=config1\n",
    ")\n",
    "response"
   ]
  },
  {
   "cell_type": "code",
   "execution_count": null,
   "id": "89ead6e4",
   "metadata": {},
   "outputs": [],
   "source": []
  },
  {
   "cell_type": "code",
   "execution_count": null,
   "id": "e0ecd403",
   "metadata": {},
   "outputs": [],
   "source": []
  }
 ],
 "metadata": {
  "kernelspec": {
   "display_name": "Python 3",
   "language": "python",
   "name": "python3"
  },
  "language_info": {
   "codemirror_mode": {
    "name": "ipython",
    "version": 3
   },
   "file_extension": ".py",
   "mimetype": "text/x-python",
   "name": "python",
   "nbconvert_exporter": "python",
   "pygments_lexer": "ipython3",
   "version": "3.11.4"
  }
 },
 "nbformat": 4,
 "nbformat_minor": 5
}
